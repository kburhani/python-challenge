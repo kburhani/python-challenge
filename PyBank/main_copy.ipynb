{
 "cells": [
  {
   "cell_type": "code",
   "execution_count": 9,
   "id": "55995302",
   "metadata": {},
   "outputs": [
    {
     "name": "stdout",
     "output_type": "stream",
     "text": [
      "Financial Analysis\n",
      "---------------------\n",
      "Total Months: 86\n",
      "Total: $22564198\n",
      "Average Change: $-8311.11\n",
      "Greatest Increase in Profits: Aug-16 ($1862002)\n",
      "Greatest Decrease in Profits: Feb-14 ($-1825558)\n"
     ]
    },
    {
     "data": {
      "text/plain": [
       "198"
      ]
     },
     "execution_count": 9,
     "metadata": {},
     "output_type": "execute_result"
    }
   ],
   "source": [
    "#Importing the necessary modules/libraries\n",
    "import os\n",
    "import csv\n",
    "\n",
    "#Creating an object out of the CSV file\n",
    "budget_data = os.path.join(\"Resources/budget_data.csv\")\n",
    "\n",
    "total_months = 0\n",
    "total_pl = 0\n",
    "value = 0\n",
    "change = 0\n",
    "dates = []\n",
    "profits = []\n",
    "\n",
    "#Opening and reading the CSV file\n",
    "with open(budget_data, newline = \"\") as csvfile:\n",
    "    csvreader = csv.reader(csvfile, delimiter = \",\")\n",
    "\n",
    "    #Reading the header row\n",
    "    csv_header = next(csvreader)\n",
    "\n",
    "    #Reading the first row (so that we track the changes properly)\n",
    "    first_row = next(csvreader)\n",
    "    total_months += 1\n",
    "    total_pl += int(first_row[1])\n",
    "    value = int(first_row[1])\n",
    "    \n",
    "    #Going through each row of data after the header & first row \n",
    "    for row in csvreader:\n",
    "        # Keeping track of the dates\n",
    "        dates.append(row[0])\n",
    "        \n",
    "        # Calculate the change, then add it to list of changes\n",
    "        change = int(row[1])-value\n",
    "        profits.append(change)\n",
    "        value = int(row[1])\n",
    "        \n",
    "        #Total number of months\n",
    "        total_months += 1\n",
    "\n",
    "        #Total net amount of \"Profit/Losses over entire period\"\n",
    "        total_pl = total_pl + int(row[1])\n",
    "\n",
    "    #Greatest increase in profits\n",
    "    greatest_increase = max(profits)\n",
    "    greatest_index = profits.index(greatest_increase)\n",
    "    greatest_date = dates[greatest_index]\n",
    "\n",
    "    #Greatest decrease (lowest increase) in profits \n",
    "    greatest_decrease = min(profits)\n",
    "    worst_index = profits.index(greatest_decrease)\n",
    "    worst_date = dates[worst_index]\n",
    "\n",
    "    #Average change in \"Profit/Losses between months over entire period\"\n",
    "    avg_change = sum(profits)/len(profits)\n",
    "    \n",
    "\n",
    "#Displaying information\n",
    "print(\"Financial Analysis\")\n",
    "print(\"---------------------\")\n",
    "print(f\"Total Months: {str(total_months)}\")\n",
    "print(f\"Total: ${str(total_pl)}\")\n",
    "print(f\"Average Change: ${str(round(avg_change,2))}\")\n",
    "print(f\"Greatest Increase in Profits: {greatest_date} (${str(greatest_increase)})\")\n",
    "print(f\"Greatest Decrease in Profits: {worst_date} (${str(greatest_decrease)})\")\n",
    "\n",
    "#Exporing to .txt file\n",
    "output = open(\"output.txt\", \"w\")\n",
    "\n",
    "line1 = \"Financial Analysis\"\n",
    "line2 = \"---------------------\"\n",
    "line3 = str(f\"Total Months: {str(total_months)}\")\n",
    "line4 = str(f\"Total: ${str(total_pl)}\")\n",
    "line5 = str(f\"Average Change: ${str(round(avg_change,2))}\")\n",
    "line6 = str(f\"Greatest Increase in Profits: {greatest_date} (${str(greatest_increase)})\")\n",
    "line7 = str(f\"Greatest Decrease in Profits: {worst_date} (${str(greatest_decrease)})\")\n",
    "output.write('{}\\n{}\\n{}\\n{}\\n{}\\n{}\\n{}\\n'.format(line1,line2,line3,line4,line5,line6,line7))"
   ]
  },
  {
   "cell_type": "code",
   "execution_count": 7,
   "id": "9fa9af88",
   "metadata": {},
   "outputs": [],
   "source": [
    "import os\n",
    "import csv\n",
    "\n",
    "#csv into object\n",
    "budget_data_csv = os.path.join(\"Resources\", \"budget_data.csv\")\n",
    "\n",
    "# Open and read csv\n",
    "with open(budget_data_csv) as csv_file:\n",
    "    csv_reader = csv.reader(budget_data_csv, delimiter=\",\")\n"
   ]
  },
  {
   "cell_type": "code",
   "execution_count": 2,
   "id": "1c736f7f",
   "metadata": {},
   "outputs": [],
   "source": [
    "#The total number of months ('date' in spreadsheet) included in the dataset\n",
    "total_months = 0\n",
    "\n",
    "#skip header and go to next row\n",
    "budget_data_csv = next(csv_reader)\n",
    "\n",
    "first_row = next(csv_reader)\n",
    "\n",
    "count = sum(1 for row in csv_reader)"
   ]
  },
  {
   "cell_type": "code",
   "execution_count": 3,
   "id": "fa69b7b1",
   "metadata": {},
   "outputs": [],
   "source": [
    "#The net total amount of \"Profit/Losses\" over the entire period\n",
    "prof_loss = 0"
   ]
  },
  {
   "cell_type": "code",
   "execution_count": 4,
   "id": "011112a0",
   "metadata": {},
   "outputs": [],
   "source": [
    "#The changes in \"Profit/Losses\" over the entire period, and then the average of those changes\n",
    "ch_pl = 0\n",
    "av_pl = 0"
   ]
  },
  {
   "cell_type": "code",
   "execution_count": 5,
   "id": "13504a4f",
   "metadata": {},
   "outputs": [],
   "source": [
    "#The greatest increase in profits (date and amount) over the entire period\n",
    "\n",
    "\n",
    "#The greatest decrease in profits (date and amount) over the entire period\n",
    "\n"
   ]
  },
  {
   "cell_type": "code",
   "execution_count": null,
   "id": "f5caab6a",
   "metadata": {},
   "outputs": [],
   "source": []
  },
  {
   "cell_type": "code",
   "execution_count": null,
   "id": "6ba5e6f6",
   "metadata": {},
   "outputs": [],
   "source": []
  }
 ],
 "metadata": {
  "kernelspec": {
   "display_name": "Python 3 (ipykernel)",
   "language": "python",
   "name": "python3"
  },
  "language_info": {
   "codemirror_mode": {
    "name": "ipython",
    "version": 3
   },
   "file_extension": ".py",
   "mimetype": "text/x-python",
   "name": "python",
   "nbconvert_exporter": "python",
   "pygments_lexer": "ipython3",
   "version": "3.9.12"
  }
 },
 "nbformat": 4,
 "nbformat_minor": 5
}
